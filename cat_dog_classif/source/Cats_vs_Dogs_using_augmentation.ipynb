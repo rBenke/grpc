{
 "cells": [
  {
   "cell_type": "code",
   "execution_count": 26,
   "metadata": {
    "colab": {},
    "colab_type": "code",
    "id": "dn-6c02VmqiN"
   },
   "outputs": [],
   "source": [
    "import os\n",
    "import zipfile\n",
    "import random\n",
    "import shutil\n",
    "import tensorflow as tf\n",
    "from tensorflow.keras.optimizers import Adam\n",
    "from tensorflow.keras.preprocessing.image import ImageDataGenerator\n",
    "from shutil import copyfile"
   ]
  },
  {
   "cell_type": "code",
   "execution_count": 27,
   "metadata": {},
   "outputs": [],
   "source": [
    "# !wget --no-check-certificate \\\n",
    "#     https://storage.googleapis.com/mledu-datasets/cats_and_dogs_filtered.zip \\\n",
    "#     -O ./../data/cats_and_dogs_filtered.zip\n",
    "  \n",
    "path_to_data = \"./../data/\"\n",
    "\n",
    "local_zip = path_to_data + 'cats_and_dogs_filtered.zip'\n",
    "zip_ref = zipfile.ZipFile(local_zip, 'r')\n",
    "zip_ref.extractall('')\n",
    "zip_ref.close()\n",
    "\n",
    "base_dir = path_to_data + 'cats_and_dogs_filtered'\n",
    "train_dir = os.path.join(base_dir, 'train')\n",
    "validation_dir = os.path.join(base_dir, 'validation')\n",
    "\n",
    "# Directory with our training cat pictures\n",
    "train_cats_dir = os.path.join(train_dir, 'cats')\n",
    "\n",
    "# Directory with our training dog pictures\n",
    "train_dogs_dir = os.path.join(train_dir, 'dogs')\n",
    "# Directory with our validation cat pictures\n",
    "validation_cats_dir = os.path.join(validation_dir, 'cats')\n",
    "\n",
    "# Directory with our validation dog pictures\n",
    "validation_dogs_dir = os.path.join(validation_dir, 'dogs')\n"
   ]
  },
  {
   "cell_type": "code",
   "execution_count": 32,
   "metadata": {
    "colab": {},
    "colab_type": "code",
    "id": "gi3yD62a6X3S"
   },
   "outputs": [
    {
     "name": "stdout",
     "output_type": "stream",
     "text": [
      "train:\n",
      "1000\n",
      "1000\n",
      "\n",
      "validation:\n",
      "500\n",
      "500\n"
     ]
    }
   ],
   "source": [
    "print(\"train:\")\n",
    "print(len(os.listdir(train_cats_dir)))\n",
    "print(len(os.listdir(train_dogs_dir)))\n",
    "print(\"\\nvalidation:\")\n",
    "print(len(os.listdir(validation_cats_dir)))\n",
    "print(len(os.listdir(validation_dogs_dir)))\n"
   ]
  },
  {
   "cell_type": "code",
   "execution_count": 33,
   "metadata": {
    "colab": {},
    "colab_type": "code",
    "id": "-BQrav4anTmj"
   },
   "outputs": [],
   "source": [
    "# DEFINE A KERAS MODEL TO CLASSIFY CATS V DOGS\n",
    "# USE AT LEAST 3 CONVOLUTION LAYERS\n",
    "model = tf.keras.models.Sequential([\n",
    "    tf.keras.layers.Conv2D(input_shape = (150,150,3), filters = 16, kernel_size = (3,3), activation = 'relu'),\n",
    "    tf.keras.layers.MaxPool2D(2,2),\n",
    "    tf.keras.layers.Conv2D(filters = 32, kernel_size = (3,3), activation = 'relu'),\n",
    "    tf.keras.layers.MaxPool2D(2,2),\n",
    "    tf.keras.layers.Conv2D(filters = 64, kernel_size = (3,3), activation = 'relu'),\n",
    "    tf.keras.layers.MaxPool2D(2,2),\n",
    "    tf.keras.layers.Flatten(),\n",
    "    tf.keras.layers.Dense(units = 256, activation ='relu'),\n",
    "    tf.keras.layers.Dense(units = 1, activation = 'sigmoid')\n",
    "    \n",
    "])\n",
    "\n",
    "model.compile(optimizer=Adam(), loss='binary_crossentropy', metrics=['acc'])"
   ]
  },
  {
   "cell_type": "markdown",
   "metadata": {},
   "source": [
    "# NOTE:\n",
    "\n",
    "In the cell below you **MUST** use a batch size of 10 (`batch_size=10`) for the `train_generator` and the `validation_generator`. Using a batch size greater than 10 will exceed memory limits on the Coursera platform."
   ]
  },
  {
   "cell_type": "code",
   "execution_count": 36,
   "metadata": {
    "colab": {},
    "colab_type": "code",
    "id": "mlNjoJ5D61N6"
   },
   "outputs": [
    {
     "name": "stdout",
     "output_type": "stream",
     "text": [
      "Found 2000 images belonging to 2 classes.\n",
      "Found 1000 images belonging to 2 classes.\n"
     ]
    }
   ],
   "source": [
    "TRAINING_DIR = \"/tmp/cats-v-dogs/training\"\n",
    "train_datagen = ImageDataGenerator(rescale = 1./255,\n",
    "                                    rotation_range=15,\n",
    "                                    width_shift_range=0.1,\n",
    "                                    height_shift_range=0.1,\n",
    "                                    shear_range=0.1,\n",
    "                                    zoom_range=0.1,\n",
    "                                    fill_mode='nearest',\n",
    "                                    horizontal_flip=True)\n",
    "\n",
    "# NOTE: YOU MUST USE A BATCH SIZE OF 10 (batch_size=10) FOR THE \n",
    "# TRAIN GENERATOR.\n",
    "train_generator = train_datagen.flow_from_directory(train_dir, class_mode = 'binary',\n",
    "                                                   batch_size = 40, target_size = (150,150))\n",
    "\n",
    "VALIDATION_DIR = \"/tmp/cats-v-dogs/testing\"\n",
    "validation_datagen =  ImageDataGenerator(rescale = 1./255,\n",
    "                                    rotation_range=15,\n",
    "                                    width_shift_range=0.1,\n",
    "                                    height_shift_range=0.1,\n",
    "                                    shear_range=0.1,\n",
    "                                    zoom_range=0.1,\n",
    "                                    fill_mode='nearest',\n",
    "                                    horizontal_flip=True)\n",
    "\n",
    "# NOTE: YOU MUST USE A BACTH SIZE OF 10 (batch_size=10) FOR THE \n",
    "# VALIDATION GENERATOR.\n",
    "validation_generator = validation_datagen.flow_from_directory(validation_dir, class_mode = 'binary',\n",
    "                                                   batch_size = 200, target_size = (150,150))\n",
    "\n"
   ]
  },
  {
   "cell_type": "code",
   "execution_count": 37,
   "metadata": {
    "colab": {},
    "colab_type": "code",
    "id": "KyS4n53w7DxC"
   },
   "outputs": [
    {
     "name": "stdout",
     "output_type": "stream",
     "text": [
      "Epoch 1/20\n",
      "50/50 [==============================] - 18s 368ms/step - loss: 0.6503 - acc: 0.6050 - val_loss: 0.6230 - val_acc: 0.6540\n",
      "Epoch 2/20\n",
      "50/50 [==============================] - 18s 369ms/step - loss: 0.6279 - acc: 0.6455 - val_loss: 0.6240 - val_acc: 0.6390\n",
      "Epoch 3/20\n",
      "50/50 [==============================] - 20s 393ms/step - loss: 0.6105 - acc: 0.6670 - val_loss: 0.6272 - val_acc: 0.6490\n",
      "Epoch 4/20\n",
      "50/50 [==============================] - 20s 391ms/step - loss: 0.5881 - acc: 0.6850 - val_loss: 0.5887 - val_acc: 0.6960\n",
      "Epoch 5/20\n",
      "50/50 [==============================] - 19s 387ms/step - loss: 0.5651 - acc: 0.7110 - val_loss: 0.5964 - val_acc: 0.6770\n",
      "Epoch 6/20\n",
      "50/50 [==============================] - 19s 384ms/step - loss: 0.5655 - acc: 0.7030 - val_loss: 0.5879 - val_acc: 0.6790\n",
      "Epoch 7/20\n",
      "50/50 [==============================] - 19s 374ms/step - loss: 0.5398 - acc: 0.7270 - val_loss: 0.5534 - val_acc: 0.7200\n",
      "Epoch 8/20\n",
      "50/50 [==============================] - 19s 384ms/step - loss: 0.5272 - acc: 0.7310 - val_loss: 0.5604 - val_acc: 0.7190\n",
      "Epoch 9/20\n",
      "50/50 [==============================] - 19s 383ms/step - loss: 0.5067 - acc: 0.7380 - val_loss: 0.5263 - val_acc: 0.7350\n",
      "Epoch 10/20\n",
      "50/50 [==============================] - 19s 384ms/step - loss: 0.4942 - acc: 0.7540 - val_loss: 0.6095 - val_acc: 0.6950\n",
      "Epoch 11/20\n",
      "50/50 [==============================] - 19s 376ms/step - loss: 0.5047 - acc: 0.7545 - val_loss: 0.5205 - val_acc: 0.7330\n",
      "Epoch 12/20\n",
      "50/50 [==============================] - 19s 387ms/step - loss: 0.4589 - acc: 0.7815 - val_loss: 0.5351 - val_acc: 0.7320\n",
      "Epoch 13/20\n",
      "50/50 [==============================] - 19s 386ms/step - loss: 0.4741 - acc: 0.7705 - val_loss: 0.5086 - val_acc: 0.7530\n",
      "Epoch 14/20\n",
      "50/50 [==============================] - 19s 381ms/step - loss: 0.4502 - acc: 0.7820 - val_loss: 0.4935 - val_acc: 0.7640\n",
      "Epoch 15/20\n",
      "50/50 [==============================] - 19s 383ms/step - loss: 0.4409 - acc: 0.7955 - val_loss: 0.4947 - val_acc: 0.7610\n",
      "Epoch 16/20\n",
      "50/50 [==============================] - 19s 378ms/step - loss: 0.4415 - acc: 0.7845 - val_loss: 0.4950 - val_acc: 0.7590\n",
      "Epoch 17/20\n",
      "50/50 [==============================] - 19s 382ms/step - loss: 0.4215 - acc: 0.8010 - val_loss: 0.4901 - val_acc: 0.7610\n",
      "Epoch 18/20\n",
      "50/50 [==============================] - 19s 381ms/step - loss: 0.4144 - acc: 0.8000 - val_loss: 0.4682 - val_acc: 0.7680\n",
      "Epoch 19/20\n",
      "50/50 [==============================] - 19s 372ms/step - loss: 0.4134 - acc: 0.8145 - val_loss: 0.5042 - val_acc: 0.7630\n",
      "Epoch 20/20\n",
      "50/50 [==============================] - 19s 375ms/step - loss: 0.4365 - acc: 0.7975 - val_loss: 0.5342 - val_acc: 0.7510\n"
     ]
    }
   ],
   "source": [
    "history = model.fit_generator(train_generator,\n",
    "                              epochs=20,\n",
    "                              verbose=1,\n",
    "                              validation_data=validation_generator)\n"
   ]
  },
  {
   "cell_type": "code",
   "execution_count": 41,
   "metadata": {},
   "outputs": [
    {
     "name": "stdout",
     "output_type": "stream",
     "text": [
      "mkdir: cannot create directory ‘./../model’: File exists\n",
      "INFO:tensorflow:Assets written to: ./../model/cats_vs_dogs_cnn/assets\n"
     ]
    }
   ],
   "source": [
    "!mkdir ./../model\n",
    "model_path = \"./../model/cats_vs_dogs_cnn\"\n",
    "model.save(model_path)"
   ]
  },
  {
   "cell_type": "code",
   "execution_count": 44,
   "metadata": {},
   "outputs": [],
   "source": [
    "# check if everything is saved \n",
    "new_model = tf.keras.models.load_model(model_path)"
   ]
  },
  {
   "cell_type": "code",
   "execution_count": 45,
   "metadata": {},
   "outputs": [
    {
     "name": "stdout",
     "output_type": "stream",
     "text": [
      "Model: \"sequential_6\"\n",
      "_________________________________________________________________\n",
      "Layer (type)                 Output Shape              Param #   \n",
      "=================================================================\n",
      "conv2d_18 (Conv2D)           (None, 148, 148, 16)      448       \n",
      "_________________________________________________________________\n",
      "max_pooling2d_18 (MaxPooling (None, 74, 74, 16)        0         \n",
      "_________________________________________________________________\n",
      "conv2d_19 (Conv2D)           (None, 72, 72, 32)        4640      \n",
      "_________________________________________________________________\n",
      "max_pooling2d_19 (MaxPooling (None, 36, 36, 32)        0         \n",
      "_________________________________________________________________\n",
      "conv2d_20 (Conv2D)           (None, 34, 34, 64)        18496     \n",
      "_________________________________________________________________\n",
      "max_pooling2d_20 (MaxPooling (None, 17, 17, 64)        0         \n",
      "_________________________________________________________________\n",
      "flatten_6 (Flatten)          (None, 18496)             0         \n",
      "_________________________________________________________________\n",
      "dense_12 (Dense)             (None, 256)               4735232   \n",
      "_________________________________________________________________\n",
      "dense_13 (Dense)             (None, 1)                 257       \n",
      "=================================================================\n",
      "Total params: 4,759,073\n",
      "Trainable params: 4,759,073\n",
      "Non-trainable params: 0\n",
      "_________________________________________________________________\n"
     ]
    }
   ],
   "source": [
    "new_model.summary()"
   ]
  },
  {
   "cell_type": "code",
   "execution_count": 46,
   "metadata": {},
   "outputs": [
    {
     "name": "stdout",
     "output_type": "stream",
     "text": [
      "WARNING:tensorflow:From <ipython-input-46-61d3992c5cb1>:1: Model.evaluate_generator (from tensorflow.python.keras.engine.training) is deprecated and will be removed in a future version.\n",
      "Instructions for updating:\n",
      "Please use Model.evaluate, which supports generators.\n"
     ]
    },
    {
     "data": {
      "text/plain": [
       "[0.5317175984382629, 0.7360000014305115]"
      ]
     },
     "execution_count": 46,
     "metadata": {},
     "output_type": "execute_result"
    }
   ],
   "source": [
    "new_model.evaluate_generator(validation_generator)"
   ]
  },
  {
   "cell_type": "code",
   "execution_count": null,
   "metadata": {},
   "outputs": [],
   "source": []
  }
 ],
 "metadata": {
  "accelerator": "GPU",
  "colab": {
   "collapsed_sections": [],
   "name": "Exercise 6 - Question.ipynb",
   "provenance": []
  },
  "coursera": {
   "course_slug": "convolutional-neural-networks-tensorflow",
   "graded_item_id": "uAPOR",
   "launcher_item_id": "e9lTb"
  },
  "kernelspec": {
   "display_name": "venv",
   "language": "python",
   "name": "venv"
  },
  "language_info": {
   "codemirror_mode": {
    "name": "ipython",
    "version": 3
   },
   "file_extension": ".py",
   "mimetype": "text/x-python",
   "name": "python",
   "nbconvert_exporter": "python",
   "pygments_lexer": "ipython3",
   "version": "3.8.5"
  }
 },
 "nbformat": 4,
 "nbformat_minor": 1
}
